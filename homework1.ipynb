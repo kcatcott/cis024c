{
 "cells": [
  {
   "cell_type": "code",
   "execution_count": 17,
   "metadata": {},
   "outputs": [
    {
     "name": "stdout",
     "output_type": "stream",
     "text": [
      "5 6\n"
     ]
    }
   ],
   "source": [
    "###Exercise 3.1\n",
    "\n",
    "a = 5\n",
    "b = 6\n",
    "print a,b"
   ]
  },
  {
   "cell_type": "code",
   "execution_count": 14,
   "metadata": {},
   "outputs": [
    {
     "name": "stdout",
     "output_type": "stream",
     "text": [
      "Hello\n",
      "Oscar\n"
     ]
    }
   ],
   "source": [
    "###Exercise 3.2\n",
    "\n",
    "greeting = \"Hello\"\n",
    "person = \"Oscar\"\n",
    "print greeting\n",
    "print person"
   ]
  },
  {
   "cell_type": "code",
   "execution_count": 22,
   "metadata": {
    "scrolled": true
   },
   "outputs": [
    {
     "name": "stdout",
     "output_type": "stream",
     "text": [
      "('Hello', 'Oscar')\n"
     ]
    }
   ],
   "source": [
    "###Exercise 3.3\n",
    "greeting = \"Hello\"\n",
    "person = \"Oscar\"\n",
    "\n",
    "personalGreeting = (greeting, person)\n",
    "print personalGreeting"
   ]
  },
  {
   "cell_type": "code",
   "execution_count": 23,
   "metadata": {},
   "outputs": [
    {
     "name": "stdout",
     "output_type": "stream",
     "text": [
      "Enter your age: 25\n"
     ]
    }
   ],
   "source": [
    "###Exercise 3.4\n",
    "\n",
    "age = int(input('Enter your age: '))"
   ]
  },
  {
   "cell_type": "code",
   "execution_count": 24,
   "metadata": {
    "scrolled": false
   },
   "outputs": [
    {
     "name": "stdout",
     "output_type": "stream",
     "text": [
      "Enter your age: 25\n",
      "25\n"
     ]
    }
   ],
   "source": [
    "###Exercise 3.5\n",
    "\n",
    "int(input('Enter your age: '))\n",
    "print age"
   ]
  },
  {
   "cell_type": "code",
   "execution_count": 31,
   "metadata": {},
   "outputs": [
    {
     "name": "stdout",
     "output_type": "stream",
     "text": [
      "Enter your age: 35\n",
      "age is 35\n"
     ]
    }
   ],
   "source": [
    "###Exercise 3.6\n",
    "\n",
    "age = int(input('Enter your age: '))\n",
    "if age == 35:\n",
    "    print \"age is 35\" "
   ]
  },
  {
   "cell_type": "code",
   "execution_count": 32,
   "metadata": {},
   "outputs": [
    {
     "name": "stdout",
     "output_type": "stream",
     "text": [
      "Enter your age: 25\n",
      "The age is not greater than 35\n"
     ]
    }
   ],
   "source": [
    "###Exercise 3.7\n",
    "\n",
    "age = int(input('Enter your age: '))\n",
    "if age == 35:\n",
    "    print age is 35\n",
    "elif age > 35:\n",
    "    print \"the age is greater then 35\"\n",
    "else:\n",
    "    print \"The age is not greater than 35\""
   ]
  },
  {
   "cell_type": "code",
   "execution_count": 46,
   "metadata": {},
   "outputs": [
    {
     "name": "stdout",
     "output_type": "stream",
     "text": [
      "10\n",
      "2\n",
      "2\n",
      "2\n"
     ]
    }
   ],
   "source": [
    "###Exercise 3.8\n",
    "\n",
    "number = 10\n",
    "print number\n",
    "singelDivision = number / 4\n",
    "print singelDivision\n",
    "doubleDivision = number // 4\n",
    "print doubleDivision\n",
    "newNumber = number%4\n",
    "print newNumber\n"
   ]
  },
  {
   "cell_type": "code",
   "execution_count": 47,
   "metadata": {},
   "outputs": [
    {
     "name": "stdout",
     "output_type": "stream",
     "text": [
      "101.34\n",
      "25.335\n",
      "25.0\n",
      "1.34\n"
     ]
    }
   ],
   "source": [
    "###Exercise 3.9\n",
    "\n",
    "number = 101.34\n",
    "print number\n",
    "singelDivision = number / 4\n",
    "print singelDivision\n",
    "doubleDivision = number // 4\n",
    "print doubleDivision\n",
    "newNumber = number%4\n",
    "print newNumber"
   ]
  },
  {
   "cell_type": "code",
   "execution_count": 52,
   "metadata": {},
   "outputs": [
    {
     "name": "stdout",
     "output_type": "stream",
     "text": [
      "False\n",
      "False\n"
     ]
    }
   ],
   "source": [
    "###Exercise 3.10\n",
    "\n",
    "myAge = 21\n",
    "yourAge = 25\n",
    "result = (myAge == yourAge)\n",
    "print result\n",
    "hisAge = 25\n",
    "result = (myAge == hisAge)\n",
    "print result"
   ]
  },
  {
   "cell_type": "code",
   "execution_count": null,
   "metadata": {
    "collapsed": true
   },
   "outputs": [],
   "source": []
  }
 ],
 "metadata": {
  "kernelspec": {
   "display_name": "Python 2",
   "language": "python",
   "name": "python2"
  },
  "language_info": {
   "codemirror_mode": {
    "name": "ipython",
    "version": 2
   },
   "file_extension": ".py",
   "mimetype": "text/x-python",
   "name": "python",
   "nbconvert_exporter": "python",
   "pygments_lexer": "ipython2",
   "version": "2.7.13"
  }
 },
 "nbformat": 4,
 "nbformat_minor": 2
}
